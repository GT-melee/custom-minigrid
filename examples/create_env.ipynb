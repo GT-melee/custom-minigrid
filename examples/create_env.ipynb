{
 "cells": [
  {
   "cell_type": "code",
   "execution_count": 1,
   "id": "speaking-renaissance",
   "metadata": {},
   "outputs": [],
   "source": [
    "%load_ext autoreload\n",
    "%autoreload 2\n",
    "\n",
    "from PIL import Image\n",
    "import numpy as np\n",
    "import matplotlib.pyplot as plt\n",
    "\n",
    "%matplotlib inline\n",
    "plt.rcParams['figure.figsize'] = (10.0, 8.0) # set default size of plots\n",
    "plt.rcParams['image.interpolation'] = 'nearest'\n",
    "plt.rcParams['image.cmap'] = 'gray'"
   ]
  },
  {
   "attachments": {
    "83425eb7-bc7c-4861-ae8c-a01e75639220.png": {
     "image/png": "[encoded data removed]"
    }
   },
   "cell_type": "markdown",
   "id": "protecting-command",
   "metadata": {},
   "source": [
    "# Interactive Environment Generation\n",
    "\n",
    "Cause I'm lazy, lets use [this pixel art tool](https://www.pixilart.com/draw#).\n",
    "\n",
    "Follow these steps:\n",
    "\n",
    "1. File -> New -> (height, width = 13, or whatever size you want but default minigrid is 15 x 15 with walls on all sides so 13 x 13)\n",
    "2. Import the colour palette used: `00ff00,ff0000,0000ff,000000,ffffff`. On the bottom right ish you should see an import button: \n",
    "\n",
    "![image.png](attachment:83425eb7-bc7c-4861-ae8c-a01e75639220.png)\n",
    "\n",
    "3. Draw your shit:\n",
    "    - Blue: walls\n",
    "    - Red: agent\n",
    "    - Green: goal\n",
    "    \n",
    "4. Export your image as a png and then use it in this script"
   ]
  },
  {
   "cell_type": "markdown",
   "id": "sunset-turtle",
   "metadata": {},
   "source": [
    "## Define creation classes (keep scrolling down)"
   ]
  },
  {
   "cell_type": "code",
   "execution_count": 86,
   "id": "honey-oasis",
   "metadata": {},
   "outputs": [],
   "source": [
    "AGENT = (255, 0, 0) # red\n",
    "GOAL = (0, 255, 0)  # green\n",
    "WALL = (0, 0, 255)  # blue\n",
    "\n",
    "\n",
    "class AdversarialEnvCreator:\n",
    "    def __init__(self, \n",
    "                 agent_colour: tuple = AGENT, \n",
    "                 goal_colour: tuple = GOAL, \n",
    "                 wall_colour: tuple = WALL,\n",
    "                 debug: bool = False):\n",
    "        \n",
    "        self.agent = agent_colour\n",
    "        self.goal = goal_colour\n",
    "        self.wall = wall_colour\n",
    "        self.d = debug\n",
    "        \n",
    "    def __call__(self, img: Image):\n",
    "        # if RGBA, only keep 3 channels\n",
    "        arr = np.array(img)[:,:,:3]\n",
    "        if self.d:\n",
    "            print(\"Should be 3 channels:\\t\\t\", arr.shape)        \n",
    "        \n",
    "        # flatten the 2d array into one\n",
    "        flat = arr.reshape(-1, 3)\n",
    "        \n",
    "        if self.d:\n",
    "            print(\"Should be of shape (h * w, 3):\\t\", flat.shape)\n",
    "        \n",
    "        # get locations\n",
    "        goal_locs = np.where(np.all(flat == GOAL, axis=-1))[0]  # cause np.where returns tuples idk why\n",
    "        wall_locs = np.where(np.all(flat == WALL, axis=-1))[0]\n",
    "        agent_locs = np.where(np.all(flat == AGENT, axis=-1))[0]\n",
    "        \n",
    "        if self.d:\n",
    "            print(\"\\nParsed pixels:\")\n",
    "            print(\"Goal loc:\\t\", goal_locs)\n",
    "            print(\"Agent loc:\\t\", agent_locs)\n",
    "            print(\"Wall loc:\\t\", wall_locs)\n",
    "\n",
    "        # create adv env step list. Order is: Goal, Agent, Wall, Wall ... \n",
    "        output = [goal_locs[0], agent_locs[0]] + wall_locs.tolist()\n",
    "        return output"
   ]
  },
  {
   "cell_type": "markdown",
   "id": "cultural-recipe",
   "metadata": {},
   "source": [
    "# Create environments (start here)\n",
    "___\n",
    "\n",
    "### 1. Load the image and visualize it"
   ]
  },
  {
   "cell_type": "code",
   "execution_count": 87,
   "id": "informal-interface",
   "metadata": {},
   "outputs": [],
   "source": [
    "img = Image.open(\"corridor_test.png\")  # note RGBA so 4 channels!"
   ]
  },
  {
   "cell_type": "code",
   "execution_count": 88,
   "id": "refined-classroom",
   "metadata": {},
   "outputs": [
    {
     "data": {
      "text/plain": [
       "<matplotlib.image.AxesImage at 0x7f7d34d5a400>"
      ]
     },
     "execution_count": 88,
     "metadata": {},
     "output_type": "execute_result"
    },
    {
     "data": {
      "image/png": "[encoded data removed]",
      "text/plain": [
       "<Figure size 720x576 with 1 Axes>"
      ]
     },
     "metadata": {
      "needs_background": "light"
     },
     "output_type": "display_data"
    }
   ],
   "source": [
    "plt.imshow(img)"
   ]
  },
  {
   "cell_type": "markdown",
   "id": "empty-detection",
   "metadata": {},
   "source": [
    "### 2. Use the environment creator thing to generate a list of steps\n",
    "\n",
    "Note that if you want to change the default colours to creating an environment, you can read the `__init__` method of this class (this is NOT the colours we care about in the actual minigrid environment; this is just a mapping from the pixel art colours to the ordering of the adversarial env)"
   ]
  },
  {
   "cell_type": "code",
   "execution_count": 89,
   "id": "satisfactory-level",
   "metadata": {},
   "outputs": [],
   "source": [
    "env_creator = AdversarialEnvCreator(debug=True)"
   ]
  },
  {
   "cell_type": "code",
   "execution_count": 90,
   "id": "congressional-compression",
   "metadata": {},
   "outputs": [
    {
     "name": "stdout",
     "output_type": "stream",
     "text": [
      "Should be 3 channels:\t\t (13, 13, 3)\n",
      "Should be of shape (h * w, 3):\t (169, 3)\n",
      "\n",
      "Parsed pixels:\n",
      "Goal loc:\t [77]\n",
      "Agent loc:\t [65]\n",
      "Wall loc:\t [52 53 54 55 56 57 58 59 60 61 62 63 64 78 79 80 81 82 83 84 85 86 87 88\n",
      " 89 90]\n"
     ]
    }
   ],
   "source": [
    "adversarial_steps = env_creator(img)"
   ]
  },
  {
   "cell_type": "code",
   "execution_count": 92,
   "id": "judicial-leather",
   "metadata": {},
   "outputs": [
    {
     "name": "stdout",
     "output_type": "stream",
     "text": [
      "[77, 65, 52, 53, 54, 55, 56, 57, 58, 59, 60, 61, 62, 63, 64, 78, 79, 80, 81, 82, 83, 84, 85, 86, 87, 88, 89, 90]\n"
     ]
    }
   ],
   "source": [
    "# This is the order that you will pass into the env.step_adversary(i) method.\n",
    "# Note that this will automatically flatten the input 2d array into a 1D \n",
    "print(adversarial_steps)"
   ]
  },
  {
   "cell_type": "markdown",
   "id": "copyrighted-constitution",
   "metadata": {},
   "source": [
    "# Testing with Custom Multigrid"
   ]
  },
  {
   "cell_type": "code",
   "execution_count": 10,
   "id": "tribal-soviet",
   "metadata": {},
   "outputs": [],
   "source": [
    "from custom_minigrid.envs import AdversarialEnv\n",
    "import gym\n",
    "import gym_minigrid"
   ]
  },
  {
   "cell_type": "code",
   "execution_count": 12,
   "id": "indirect-senior",
   "metadata": {},
   "outputs": [
    {
     "data": {
      "image/png": "[encoded data removed]",
      "text/plain": [
       "<Figure size 720x576 with 1 Axes>"
      ]
     },
     "metadata": {
      "needs_background": "light"
     },
     "output_type": "display_data"
    }
   ],
   "source": [
    "env = gym.make('MultiGrid-Adversarial-v0')\n",
    "env.reset()\n",
    "before_img = env.render('rgb_array')\n",
    "\n",
    "plt.imshow(before_img);"
   ]
  },
  {
   "cell_type": "code",
   "execution_count": 50,
   "id": "dedicated-spice",
   "metadata": {},
   "outputs": [],
   "source": [
    "env.reset()\n",
    "env.step_adversary(adversarial_steps[0])\n",
    "env.step_adversary(adversarial_steps[1])\n",
    "for i in adversarial_steps[2:]:\n",
    "    env.step_adversary(i)"
   ]
  },
  {
   "cell_type": "code",
   "execution_count": 51,
   "id": "frank-serial",
   "metadata": {},
   "outputs": [],
   "source": []
  },
  {
   "cell_type": "code",
   "execution_count": 52,
   "id": "existing-animation",
   "metadata": {},
   "outputs": [
    {
     "data": {
      "image/png": "[encoded data removed]",
      "text/plain": [
       "<Figure size 720x576 with 1 Axes>"
      ]
     },
     "metadata": {
      "needs_background": "light"
     },
     "output_type": "display_data"
    }
   ],
   "source": [
    "reset_img = env.render('rgb_array')\n",
    "plt.imshow(reset_img);"
   ]
  },
  {
   "cell_type": "code",
   "execution_count": null,
   "id": "valuable-partnership",
   "metadata": {},
   "outputs": [],
   "source": []
  }
 ],
 "metadata": {
  "kernelspec": {
   "display_name": "gt-venv",
   "language": "python",
   "name": "gt-venv"
  },
  "language_info": {
   "codemirror_mode": {
    "name": "ipython",
    "version": 3
   },
   "file_extension": ".py",
   "mimetype": "text/x-python",
   "name": "python",
   "nbconvert_exporter": "python",
   "pygments_lexer": "ipython3",
   "version": "3.8.5"
  }
 },
 "nbformat": 4,
 "nbformat_minor": 5
}
